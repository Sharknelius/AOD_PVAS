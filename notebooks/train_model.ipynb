{
 "cells": [
  {
   "cell_type": "code",
   "execution_count": 3,
   "metadata": {},
   "outputs": [],
   "source": [
    "from ultralytics import YOLO\n",
    "import cv2\n",
    "import os\n",
    "import numpy as np\n",
    "from sklearn.metrics import confusion_matrix"
   ]
  },
  {
   "cell_type": "code",
   "execution_count": null,
   "metadata": {},
   "outputs": [],
   "source": [
    "results = {}\n",
    "\n",
    "# Define source and destination paths\n",
    "data_dir = os.path.join(os.path.abspath('..'), 'data', 'config.yaml')\n",
    "video_dir = os.path.join(os.path.abspath('..'), 'data', 'videos', 'sample.mp4' )\n",
    "model = YOLO(\"./models/yolo11n.pt\")"
   ]
  },
  {
   "cell_type": "code",
   "execution_count": null,
   "metadata": {},
   "outputs": [],
   "source": [
    "# Load video\n",
    "cap = cv2.VideoCapture(video_dir)\n",
    "\n",
    "targets = [0, 2, 3, 5, 7] # Detect [human, car, motorbike, bus, truck]"
   ]
  },
  {
   "cell_type": "code",
   "execution_count": null,
   "metadata": {},
   "outputs": [],
   "source": [
    "frame_nmr = -1\n",
    "ret = True\n",
    "\n",
    "while ret:\n",
    "    frame_nmr += 1\n",
    "    ret, frame = cap.read()\n",
    "    #if ret: # uncomment this and comment the next line for short testing\n",
    "    if ret and frame_nmr < 10: # Change to just \"if ret\"\n",
    "        results[frame_nmr] = {}\n",
    "        #detect vehicles\n",
    "        detections = model(frame)[0]\n",
    "        detections_ = [] # bounding boxes\n",
    "\n",
    "        for detection in detections.boxes.data.tolist():\n",
    "            x1, y1, x2, y2, score, class_id = detection\n",
    "            if int(class_id) in targets:\n",
    "                if score > 0.5:\n",
    "                    detections_.append([x1, y1, x2, y2, score])"
   ]
  },
  {
   "cell_type": "code",
   "execution_count": null,
   "metadata": {},
   "outputs": [],
   "source": [
    "# Old model training code\n",
    "train_results = model.train(\n",
    "    data=data_dir,  # path to dataset YAML\n",
    "    epochs=1,  # number of training epochs\n",
    "    imgsz=640,  # training image size\n",
    "    device=\"cpu\",  # device to run on\n",
    ")\n",
    "\n",
    "# Evaluate model performance on the validation set\n",
    "metrics = model.val()"
   ]
  }
 ],
 "metadata": {
  "kernelspec": {
   "display_name": "Python 3",
   "language": "python",
   "name": "python3"
  },
  "language_info": {
   "codemirror_mode": {
    "name": "ipython",
    "version": 3
   },
   "file_extension": ".py",
   "mimetype": "text/x-python",
   "name": "python",
   "nbconvert_exporter": "python",
   "pygments_lexer": "ipython3",
   "version": "undefined.undefined.undefined"
  }
 },
 "nbformat": 4,
 "nbformat_minor": 2
}
